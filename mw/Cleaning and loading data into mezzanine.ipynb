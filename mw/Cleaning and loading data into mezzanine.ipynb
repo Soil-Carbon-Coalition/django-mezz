{
 "cells": [
  {
   "cell_type": "code",
   "execution_count": 1,
   "metadata": {},
   "outputs": [],
   "source": [
    "import pandas as pd, numpy as np, re, datetime\n"
   ]
  },
  {
   "cell_type": "code",
   "execution_count": 5,
   "metadata": {},
   "outputs": [],
   "source": [
    "from mezzanine.conf import settings\n"
   ]
  },
  {
   "cell_type": "code",
   "execution_count": null,
   "metadata": {},
   "outputs": [],
   "source": [
    "register.settings().all()"
   ]
  },
  {
   "cell_type": "markdown",
   "metadata": {},
   "source": [
    "## creating records from a df\n",
    "First, create the dataframe from the mysql, save as csv with sep ~"
   ]
  },
  {
   "cell_type": "code",
   "execution_count": 5,
   "metadata": {},
   "outputs": [],
   "source": [
    "mw = pd.read_csv('mw.csv', sep='~')\n",
    "mw.rename(columns={'body':'content', 'dst':'slug'}, inplace=True)\n",
    "mw['created'] = pd.to_datetime(mw.timestamp, utc=True, unit = 's')\n",
    "mw = mw[['title','slug','created','content']]\n",
    "mw.info()"
   ]
  },
  {
   "cell_type": "code",
   "execution_count": 6,
   "metadata": {},
   "outputs": [],
   "source": [
    "mw['page_ptr_id'] = pd.Series(range(1,189))"
   ]
  },
  {
   "cell_type": "code",
   "execution_count": 23,
   "metadata": {},
   "outputs": [],
   "source": [
    "mw.to_csv('mw.csv',sep='~',index=False)"
   ]
  },
  {
   "cell_type": "code",
   "execution_count": 3,
   "metadata": {},
   "outputs": [],
   "source": [
    "mw = pd.read_csv('mw.csv', sep='~')"
   ]
  },
  {
   "cell_type": "code",
   "execution_count": 22,
   "metadata": {},
   "outputs": [],
   "source": [
    "#search and replace\n",
    "#mw.content.replace(to_replace='\\n\\r\\n',value='</p><p>',inplace=True, regex=True)\n",
    "#mw.content.replace(to_replace='\\r</p>',value='</p>',inplace=True, regex=True)\n",
    "mw.content.replace(to_replace='http://www.youtube',value='https://www.youtube',inplace=True, regex=True)\n",
    "#print(repr(mw.loc[3,'content']))"
   ]
  },
  {
   "cell_type": "markdown",
   "metadata": {},
   "source": [
    "## loading data from dataframe\n",
    "Must load RichTextPage objects first as this is an inherited model. Cannot use bulk_create so must iterate.\n",
    "\n",
    "This process also creates Page objects. \n",
    "\n",
    "Then we update the title, slug, in_menus, created, and publish_date fields in the Page objects."
   ]
  },
  {
   "cell_type": "code",
   "execution_count": 24,
   "metadata": {},
   "outputs": [],
   "source": [
    "for row in mw.itertuples():\n",
    "    rtp = RichTextPage(content=row[4])\n",
    "    rtp.save()\n",
    "#this will take a while"
   ]
  },
  {
   "cell_type": "code",
   "execution_count": 25,
   "metadata": {},
   "outputs": [],
   "source": [
    "#updating Page objects\n",
    "for row in mw.itertuples():\n",
    "    p= Page.objects.get(id=row[5])\n",
    "    p.title = row[1]\n",
    "    p.slug = row[2]\n",
    "    p.created = row[3]\n",
    "    p.publish_date = row[3]\n",
    "    p.in_menus=[]\n",
    "    p.save()\n"
   ]
  },
  {
   "cell_type": "markdown",
   "metadata": {},
   "source": [
    "## Check the results"
   ]
  },
  {
   "cell_type": "code",
   "execution_count": 19,
   "metadata": {},
   "outputs": [
    {
     "data": {
      "text/html": [
       "<div>\n",
       "<style scoped>\n",
       "    .dataframe tbody tr th:only-of-type {\n",
       "        vertical-align: middle;\n",
       "    }\n",
       "\n",
       "    .dataframe tbody tr th {\n",
       "        vertical-align: top;\n",
       "    }\n",
       "\n",
       "    .dataframe thead th {\n",
       "        text-align: right;\n",
       "    }\n",
       "</style>\n",
       "<table border=\"1\" class=\"dataframe\">\n",
       "  <thead>\n",
       "    <tr style=\"text-align: right;\">\n",
       "      <th></th>\n",
       "      <th>_meta_title</th>\n",
       "      <th>_order</th>\n",
       "      <th>content_model</th>\n",
       "      <th>created</th>\n",
       "      <th>description</th>\n",
       "      <th>expiry_date</th>\n",
       "      <th>gen_description</th>\n",
       "      <th>id</th>\n",
       "      <th>in_menus</th>\n",
       "      <th>in_sitemap</th>\n",
       "      <th>...</th>\n",
       "      <th>login_required</th>\n",
       "      <th>parent_id</th>\n",
       "      <th>publish_date</th>\n",
       "      <th>short_url</th>\n",
       "      <th>site_id</th>\n",
       "      <th>slug</th>\n",
       "      <th>status</th>\n",
       "      <th>title</th>\n",
       "      <th>titles</th>\n",
       "      <th>updated</th>\n",
       "    </tr>\n",
       "  </thead>\n",
       "  <tbody>\n",
       "    <tr>\n",
       "      <th>0</th>\n",
       "      <td>None</td>\n",
       "      <td>165</td>\n",
       "      <td>richtextpage</td>\n",
       "      <td>2011-01-25 14:51:54+00:00</td>\n",
       "      <td>\\r\\n\\r\\nAllan Savory\\r\\n\\r\\n\\r\\n\\r\\nManaging W...</td>\n",
       "      <td>None</td>\n",
       "      <td>True</td>\n",
       "      <td>166</td>\n",
       "      <td>[]</td>\n",
       "      <td>True</td>\n",
       "      <td>...</td>\n",
       "      <td>False</td>\n",
       "      <td>None</td>\n",
       "      <td>2011-01-25 14:51:54+00:00</td>\n",
       "      <td>None</td>\n",
       "      <td>1</td>\n",
       "      <td>about</td>\n",
       "      <td>2</td>\n",
       "      <td>About ManagingWholes.com</td>\n",
       "      <td>About ManagingWholes.com</td>\n",
       "      <td>2018-01-15 10:29:28.478575+00:00</td>\n",
       "    </tr>\n",
       "    <tr>\n",
       "      <th>1</th>\n",
       "      <td>None</td>\n",
       "      <td>65</td>\n",
       "      <td>richtextpage</td>\n",
       "      <td>2010-02-10 16:16:01+00:00</td>\n",
       "      <td>by Peter Donovan\\r\\n\\r\\nThis essay was first p...</td>\n",
       "      <td>None</td>\n",
       "      <td>True</td>\n",
       "      <td>66</td>\n",
       "      <td>[]</td>\n",
       "      <td>True</td>\n",
       "      <td>...</td>\n",
       "      <td>False</td>\n",
       "      <td>None</td>\n",
       "      <td>2010-02-10 16:16:01+00:00</td>\n",
       "      <td>None</td>\n",
       "      <td>1</td>\n",
       "      <td>leasing.htm</td>\n",
       "      <td>2</td>\n",
       "      <td>Achieving the potential of federal lands</td>\n",
       "      <td>Achieving the potential of federal lands</td>\n",
       "      <td>2018-01-15 10:29:27.718445+00:00</td>\n",
       "    </tr>\n",
       "    <tr>\n",
       "      <th>2</th>\n",
       "      <td>None</td>\n",
       "      <td>24</td>\n",
       "      <td>richtextpage</td>\n",
       "      <td>2010-02-05 16:19:06+00:00</td>\n",
       "      <td>by Peter Donovan (1995)\\r</td>\n",
       "      <td>None</td>\n",
       "      <td>True</td>\n",
       "      <td>25</td>\n",
       "      <td>[]</td>\n",
       "      <td>True</td>\n",
       "      <td>...</td>\n",
       "      <td>False</td>\n",
       "      <td>None</td>\n",
       "      <td>2010-02-05 16:19:06+00:00</td>\n",
       "      <td>None</td>\n",
       "      <td>1</td>\n",
       "      <td>southworth.htm</td>\n",
       "      <td>2</td>\n",
       "      <td>A conversation with Jack Southworth</td>\n",
       "      <td>A conversation with Jack Southworth</td>\n",
       "      <td>2018-01-15 10:29:27.408625+00:00</td>\n",
       "    </tr>\n",
       "    <tr>\n",
       "      <th>3</th>\n",
       "      <td>None</td>\n",
       "      <td>185</td>\n",
       "      <td>richtextpage</td>\n",
       "      <td>2013-03-09 16:02:35+00:00</td>\n",
       "      <td>\\r</td>\n",
       "      <td>None</td>\n",
       "      <td>True</td>\n",
       "      <td>186</td>\n",
       "      <td>[]</td>\n",
       "      <td>True</td>\n",
       "      <td>...</td>\n",
       "      <td>False</td>\n",
       "      <td>None</td>\n",
       "      <td>2013-03-09 16:02:35+00:00</td>\n",
       "      <td>None</td>\n",
       "      <td>1</td>\n",
       "      <td>Savory-TED</td>\n",
       "      <td>2</td>\n",
       "      <td>Allan Savory's TED talk</td>\n",
       "      <td>Allan Savory's TED talk</td>\n",
       "      <td>2018-01-15 10:29:28.607092+00:00</td>\n",
       "    </tr>\n",
       "    <tr>\n",
       "      <th>4</th>\n",
       "      <td>None</td>\n",
       "      <td>59</td>\n",
       "      <td>richtextpage</td>\n",
       "      <td>2010-02-09 03:42:09+00:00</td>\n",
       "      <td>by Peter Donovan\\r\\n\\r\\n\\r\\nPeter Donovan phot...</td>\n",
       "      <td>None</td>\n",
       "      <td>True</td>\n",
       "      <td>60</td>\n",
       "      <td>[]</td>\n",
       "      <td>True</td>\n",
       "      <td>...</td>\n",
       "      <td>False</td>\n",
       "      <td>None</td>\n",
       "      <td>2010-02-09 03:42:09+00:00</td>\n",
       "      <td>None</td>\n",
       "      <td>1</td>\n",
       "      <td>merve.htm</td>\n",
       "      <td>2</td>\n",
       "      <td>A matter of method: Merve Wilkinson's Wildwood...</td>\n",
       "      <td>A matter of method: Merve Wilkinson's Wildwood...</td>\n",
       "      <td>2018-01-15 10:29:27.674256+00:00</td>\n",
       "    </tr>\n",
       "  </tbody>\n",
       "</table>\n",
       "<p>5 rows × 21 columns</p>\n",
       "</div>"
      ],
      "text/plain": [
       "  _meta_title  _order content_model                   created  \\\n",
       "0        None     165  richtextpage 2011-01-25 14:51:54+00:00   \n",
       "1        None      65  richtextpage 2010-02-10 16:16:01+00:00   \n",
       "2        None      24  richtextpage 2010-02-05 16:19:06+00:00   \n",
       "3        None     185  richtextpage 2013-03-09 16:02:35+00:00   \n",
       "4        None      59  richtextpage 2010-02-09 03:42:09+00:00   \n",
       "\n",
       "                                         description expiry_date  \\\n",
       "0  \\r\\n\\r\\nAllan Savory\\r\\n\\r\\n\\r\\n\\r\\nManaging W...        None   \n",
       "1  by Peter Donovan\\r\\n\\r\\nThis essay was first p...        None   \n",
       "2                          by Peter Donovan (1995)\\r        None   \n",
       "3                                                 \\r        None   \n",
       "4  by Peter Donovan\\r\\n\\r\\n\\r\\nPeter Donovan phot...        None   \n",
       "\n",
       "   gen_description   id in_menus  in_sitemap               ...                 \\\n",
       "0             True  166       []        True               ...                  \n",
       "1             True   66       []        True               ...                  \n",
       "2             True   25       []        True               ...                  \n",
       "3             True  186       []        True               ...                  \n",
       "4             True   60       []        True               ...                  \n",
       "\n",
       "  login_required  parent_id              publish_date short_url site_id  \\\n",
       "0          False       None 2011-01-25 14:51:54+00:00      None       1   \n",
       "1          False       None 2010-02-10 16:16:01+00:00      None       1   \n",
       "2          False       None 2010-02-05 16:19:06+00:00      None       1   \n",
       "3          False       None 2013-03-09 16:02:35+00:00      None       1   \n",
       "4          False       None 2010-02-09 03:42:09+00:00      None       1   \n",
       "\n",
       "             slug status                                              title  \\\n",
       "0           about      2                           About ManagingWholes.com   \n",
       "1     leasing.htm      2           Achieving the potential of federal lands   \n",
       "2  southworth.htm      2                A conversation with Jack Southworth   \n",
       "3      Savory-TED      2                            Allan Savory's TED talk   \n",
       "4       merve.htm      2  A matter of method: Merve Wilkinson's Wildwood...   \n",
       "\n",
       "                                              titles  \\\n",
       "0                           About ManagingWholes.com   \n",
       "1           Achieving the potential of federal lands   \n",
       "2                A conversation with Jack Southworth   \n",
       "3                            Allan Savory's TED talk   \n",
       "4  A matter of method: Merve Wilkinson's Wildwood...   \n",
       "\n",
       "                           updated  \n",
       "0 2018-01-15 10:29:28.478575+00:00  \n",
       "1 2018-01-15 10:29:27.718445+00:00  \n",
       "2 2018-01-15 10:29:27.408625+00:00  \n",
       "3 2018-01-15 10:29:28.607092+00:00  \n",
       "4 2018-01-15 10:29:27.674256+00:00  \n",
       "\n",
       "[5 rows x 21 columns]"
      ]
     },
     "execution_count": 19,
     "metadata": {},
     "output_type": "execute_result"
    }
   ],
   "source": [
    "pages = pd.DataFrame(list(Page.objects.all().values()))\n",
    "pages.head()"
   ]
  },
  {
   "cell_type": "code",
   "execution_count": null,
   "metadata": {},
   "outputs": [],
   "source": []
  }
 ],
 "metadata": {
  "kernelspec": {
   "display_name": "Django Shell-Plus",
   "language": "python",
   "name": "django_extensions"
  },
  "language_info": {
   "codemirror_mode": {
    "name": "ipython",
    "version": 3
   },
   "file_extension": ".py",
   "mimetype": "text/x-python",
   "name": "python",
   "nbconvert_exporter": "python",
   "pygments_lexer": "ipython3",
   "version": "3.5.2"
  }
 },
 "nbformat": 4,
 "nbformat_minor": 2
}
